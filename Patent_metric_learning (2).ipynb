{
  "nbformat": 4,
  "nbformat_minor": 0,
  "metadata": {
    "colab": {
      "provenance": [],
      "collapsed_sections": []
    },
    "kernelspec": {
      "name": "python3",
      "display_name": "Python 3"
    },
    "language_info": {
      "name": "python"
    },
    "accelerator": "GPU",
    "gpuClass": "standard",
    "widgets": {
      "application/vnd.jupyter.widget-state+json": {
        "d49052c836ca4015bdf337bf3cffad0c": {
          "model_module": "@jupyter-widgets/controls",
          "model_name": "HBoxModel",
          "model_module_version": "1.5.0",
          "state": {
            "_dom_classes": [],
            "_model_module": "@jupyter-widgets/controls",
            "_model_module_version": "1.5.0",
            "_model_name": "HBoxModel",
            "_view_count": null,
            "_view_module": "@jupyter-widgets/controls",
            "_view_module_version": "1.5.0",
            "_view_name": "HBoxView",
            "box_style": "",
            "children": [
              "IPY_MODEL_12700f9c1bfe45129dbb21af21a40d3d",
              "IPY_MODEL_dcb8b0f802df40218d5997d71e041c91",
              "IPY_MODEL_c1572750f2884fce89fa9dfa84616091"
            ],
            "layout": "IPY_MODEL_1bba5adc55a84030871f38cd683dfe30"
          }
        },
        "12700f9c1bfe45129dbb21af21a40d3d": {
          "model_module": "@jupyter-widgets/controls",
          "model_name": "HTMLModel",
          "model_module_version": "1.5.0",
          "state": {
            "_dom_classes": [],
            "_model_module": "@jupyter-widgets/controls",
            "_model_module_version": "1.5.0",
            "_model_name": "HTMLModel",
            "_view_count": null,
            "_view_module": "@jupyter-widgets/controls",
            "_view_module_version": "1.5.0",
            "_view_name": "HTMLView",
            "description": "",
            "description_tooltip": null,
            "layout": "IPY_MODEL_9e234aec40fe499984afa942836ea7b0",
            "placeholder": "​",
            "style": "IPY_MODEL_7a11c6456b4545b2a76aca4d49b984c7",
            "value": " 94%"
          }
        },
        "dcb8b0f802df40218d5997d71e041c91": {
          "model_module": "@jupyter-widgets/controls",
          "model_name": "FloatProgressModel",
          "model_module_version": "1.5.0",
          "state": {
            "_dom_classes": [],
            "_model_module": "@jupyter-widgets/controls",
            "_model_module_version": "1.5.0",
            "_model_name": "FloatProgressModel",
            "_view_count": null,
            "_view_module": "@jupyter-widgets/controls",
            "_view_module_version": "1.5.0",
            "_view_name": "ProgressView",
            "bar_style": "",
            "description": "",
            "description_tooltip": null,
            "layout": "IPY_MODEL_72c8989a80174cd5b83c820ca67084df",
            "max": 49,
            "min": 0,
            "orientation": "horizontal",
            "style": "IPY_MODEL_39ade89f545046729cdbafd3b9c8872b",
            "value": 46
          }
        },
        "c1572750f2884fce89fa9dfa84616091": {
          "model_module": "@jupyter-widgets/controls",
          "model_name": "HTMLModel",
          "model_module_version": "1.5.0",
          "state": {
            "_dom_classes": [],
            "_model_module": "@jupyter-widgets/controls",
            "_model_module_version": "1.5.0",
            "_model_name": "HTMLModel",
            "_view_count": null,
            "_view_module": "@jupyter-widgets/controls",
            "_view_module_version": "1.5.0",
            "_view_name": "HTMLView",
            "description": "",
            "description_tooltip": null,
            "layout": "IPY_MODEL_1d3b75f1b50445ea80556d0ad8e1e1b3",
            "placeholder": "​",
            "style": "IPY_MODEL_0872e03ed5bb4490b3c88da584c8cacf",
            "value": " 46/49 [44:14&lt;02:52, 57.57s/it]"
          }
        },
        "1bba5adc55a84030871f38cd683dfe30": {
          "model_module": "@jupyter-widgets/base",
          "model_name": "LayoutModel",
          "model_module_version": "1.2.0",
          "state": {
            "_model_module": "@jupyter-widgets/base",
            "_model_module_version": "1.2.0",
            "_model_name": "LayoutModel",
            "_view_count": null,
            "_view_module": "@jupyter-widgets/base",
            "_view_module_version": "1.2.0",
            "_view_name": "LayoutView",
            "align_content": null,
            "align_items": null,
            "align_self": null,
            "border": null,
            "bottom": null,
            "display": null,
            "flex": null,
            "flex_flow": null,
            "grid_area": null,
            "grid_auto_columns": null,
            "grid_auto_flow": null,
            "grid_auto_rows": null,
            "grid_column": null,
            "grid_gap": null,
            "grid_row": null,
            "grid_template_areas": null,
            "grid_template_columns": null,
            "grid_template_rows": null,
            "height": null,
            "justify_content": null,
            "justify_items": null,
            "left": null,
            "margin": null,
            "max_height": null,
            "max_width": null,
            "min_height": null,
            "min_width": null,
            "object_fit": null,
            "object_position": null,
            "order": null,
            "overflow": null,
            "overflow_x": null,
            "overflow_y": null,
            "padding": null,
            "right": null,
            "top": null,
            "visibility": null,
            "width": null
          }
        },
        "9e234aec40fe499984afa942836ea7b0": {
          "model_module": "@jupyter-widgets/base",
          "model_name": "LayoutModel",
          "model_module_version": "1.2.0",
          "state": {
            "_model_module": "@jupyter-widgets/base",
            "_model_module_version": "1.2.0",
            "_model_name": "LayoutModel",
            "_view_count": null,
            "_view_module": "@jupyter-widgets/base",
            "_view_module_version": "1.2.0",
            "_view_name": "LayoutView",
            "align_content": null,
            "align_items": null,
            "align_self": null,
            "border": null,
            "bottom": null,
            "display": null,
            "flex": null,
            "flex_flow": null,
            "grid_area": null,
            "grid_auto_columns": null,
            "grid_auto_flow": null,
            "grid_auto_rows": null,
            "grid_column": null,
            "grid_gap": null,
            "grid_row": null,
            "grid_template_areas": null,
            "grid_template_columns": null,
            "grid_template_rows": null,
            "height": null,
            "justify_content": null,
            "justify_items": null,
            "left": null,
            "margin": null,
            "max_height": null,
            "max_width": null,
            "min_height": null,
            "min_width": null,
            "object_fit": null,
            "object_position": null,
            "order": null,
            "overflow": null,
            "overflow_x": null,
            "overflow_y": null,
            "padding": null,
            "right": null,
            "top": null,
            "visibility": null,
            "width": null
          }
        },
        "7a11c6456b4545b2a76aca4d49b984c7": {
          "model_module": "@jupyter-widgets/controls",
          "model_name": "DescriptionStyleModel",
          "model_module_version": "1.5.0",
          "state": {
            "_model_module": "@jupyter-widgets/controls",
            "_model_module_version": "1.5.0",
            "_model_name": "DescriptionStyleModel",
            "_view_count": null,
            "_view_module": "@jupyter-widgets/base",
            "_view_module_version": "1.2.0",
            "_view_name": "StyleView",
            "description_width": ""
          }
        },
        "72c8989a80174cd5b83c820ca67084df": {
          "model_module": "@jupyter-widgets/base",
          "model_name": "LayoutModel",
          "model_module_version": "1.2.0",
          "state": {
            "_model_module": "@jupyter-widgets/base",
            "_model_module_version": "1.2.0",
            "_model_name": "LayoutModel",
            "_view_count": null,
            "_view_module": "@jupyter-widgets/base",
            "_view_module_version": "1.2.0",
            "_view_name": "LayoutView",
            "align_content": null,
            "align_items": null,
            "align_self": null,
            "border": null,
            "bottom": null,
            "display": null,
            "flex": null,
            "flex_flow": null,
            "grid_area": null,
            "grid_auto_columns": null,
            "grid_auto_flow": null,
            "grid_auto_rows": null,
            "grid_column": null,
            "grid_gap": null,
            "grid_row": null,
            "grid_template_areas": null,
            "grid_template_columns": null,
            "grid_template_rows": null,
            "height": null,
            "justify_content": null,
            "justify_items": null,
            "left": null,
            "margin": null,
            "max_height": null,
            "max_width": null,
            "min_height": null,
            "min_width": null,
            "object_fit": null,
            "object_position": null,
            "order": null,
            "overflow": null,
            "overflow_x": null,
            "overflow_y": null,
            "padding": null,
            "right": null,
            "top": null,
            "visibility": null,
            "width": null
          }
        },
        "39ade89f545046729cdbafd3b9c8872b": {
          "model_module": "@jupyter-widgets/controls",
          "model_name": "ProgressStyleModel",
          "model_module_version": "1.5.0",
          "state": {
            "_model_module": "@jupyter-widgets/controls",
            "_model_module_version": "1.5.0",
            "_model_name": "ProgressStyleModel",
            "_view_count": null,
            "_view_module": "@jupyter-widgets/base",
            "_view_module_version": "1.2.0",
            "_view_name": "StyleView",
            "bar_color": null,
            "description_width": ""
          }
        },
        "1d3b75f1b50445ea80556d0ad8e1e1b3": {
          "model_module": "@jupyter-widgets/base",
          "model_name": "LayoutModel",
          "model_module_version": "1.2.0",
          "state": {
            "_model_module": "@jupyter-widgets/base",
            "_model_module_version": "1.2.0",
            "_model_name": "LayoutModel",
            "_view_count": null,
            "_view_module": "@jupyter-widgets/base",
            "_view_module_version": "1.2.0",
            "_view_name": "LayoutView",
            "align_content": null,
            "align_items": null,
            "align_self": null,
            "border": null,
            "bottom": null,
            "display": null,
            "flex": null,
            "flex_flow": null,
            "grid_area": null,
            "grid_auto_columns": null,
            "grid_auto_flow": null,
            "grid_auto_rows": null,
            "grid_column": null,
            "grid_gap": null,
            "grid_row": null,
            "grid_template_areas": null,
            "grid_template_columns": null,
            "grid_template_rows": null,
            "height": null,
            "justify_content": null,
            "justify_items": null,
            "left": null,
            "margin": null,
            "max_height": null,
            "max_width": null,
            "min_height": null,
            "min_width": null,
            "object_fit": null,
            "object_position": null,
            "order": null,
            "overflow": null,
            "overflow_x": null,
            "overflow_y": null,
            "padding": null,
            "right": null,
            "top": null,
            "visibility": null,
            "width": null
          }
        },
        "0872e03ed5bb4490b3c88da584c8cacf": {
          "model_module": "@jupyter-widgets/controls",
          "model_name": "DescriptionStyleModel",
          "model_module_version": "1.5.0",
          "state": {
            "_model_module": "@jupyter-widgets/controls",
            "_model_module_version": "1.5.0",
            "_model_name": "DescriptionStyleModel",
            "_view_count": null,
            "_view_module": "@jupyter-widgets/base",
            "_view_module_version": "1.2.0",
            "_view_name": "StyleView",
            "description_width": ""
          }
        }
      }
    }
  },
  "cells": [
    {
      "cell_type": "code",
      "execution_count": 1,
      "metadata": {
        "id": "CZrkCv4nJxOP"
      },
      "outputs": [],
      "source": [
        "import torch\n",
        "import torch.nn as nn\n",
        "import pandas as pd\n",
        "import numpy as np\n",
        "from itertools import combinations\n",
        "import pickle\n",
        "from tqdm import tqdm_notebook\n",
        "from itertools import combinations"
      ]
    },
    {
      "cell_type": "code",
      "source": [
        "alldata = pd.read_csv(\"/content/drive/MyDrive/base_alldata.csv\")\n",
        "data2 = pd.read_csv(\"/content/drive/MyDrive/data20000.csv\")\n",
        "with open (\"/content/drive/MyDrive/data20000.pkl\", \"rb\") as f:\n",
        "    data = pickle.load(f)\n",
        "data['A_label'] = data2['A_label']\n",
        "data['B_label'] = data2['B_label']\n",
        "data"
      ],
      "metadata": {
        "colab": {
          "base_uri": "https://localhost:8080/",
          "height": 424
        },
        "id": "LypWIuYgJ6ID",
        "outputId": "4abddc63-e3fa-4c88-bb88-33f9a4c8efc5"
      },
      "execution_count": 3,
      "outputs": [
        {
          "output_type": "execute_result",
          "data": {
            "text/plain": [
              "                                                A_patent  \\\n",
              "0      [0.36229375, -0.50979894, -0.071172826, 0.0716...   \n",
              "1      [0.4170102, -0.1611865, 0.016234059, -0.034006...   \n",
              "2      [0.21566992, 0.37108305, 0.581861, 0.4217709, ...   \n",
              "3      [0.17490184, 0.057280716, 0.33718467, 0.162178...   \n",
              "4      [0.25884563, 0.13668944, -0.03792026, -0.06936...   \n",
              "...                                                  ...   \n",
              "23319  [-0.11465991, -0.0045952667, -0.4231456, 0.127...   \n",
              "23320  [0.3935649, -0.12443716, 0.05400295, 0.4531702...   \n",
              "23321  [0.07053192, -0.25414056, -0.093417294, -0.129...   \n",
              "23322  [0.25910273, -0.28315908, 0.12044519, 0.123281...   \n",
              "23323  [0.29319736, -0.10233939, 0.039186634, 0.20327...   \n",
              "\n",
              "                                                B_patent  sam_label  A_label  \\\n",
              "0      [0.59421617, -0.15761371, 0.07355781, -0.14865...          0        3   \n",
              "1      [0.5061552, 0.09089776, 0.2494746, 0.46706584,...          1        6   \n",
              "2      [-0.063228115, 0.20342293, -0.45882493, 0.0856...          0        3   \n",
              "3      [0.60902894, -0.15597533, -0.1680133, -0.13122...          0        0   \n",
              "4      [-0.076299764, -0.18286894, 0.44981137, -0.007...          0        5   \n",
              "...                                                  ...        ...      ...   \n",
              "23319  [0.17921987, -0.05672539, 0.11646745, -0.05281...          0        1   \n",
              "23320  [0.25731322, -0.21553199, 0.10416031, 0.032546...          0        0   \n",
              "23321  [0.36229375, -0.50979894, -0.071172826, 0.0716...          0        4   \n",
              "23322  [0.30005488, -0.21446921, -0.67292786, 0.23480...          0        5   \n",
              "23323  [-0.1153905, 0.33363542, 0.10972641, 0.0500966...          0        2   \n",
              "\n",
              "       B_label  \n",
              "0            0  \n",
              "1            6  \n",
              "2            4  \n",
              "3            1  \n",
              "4            0  \n",
              "...        ...  \n",
              "23319        6  \n",
              "23320        1  \n",
              "23321        3  \n",
              "23322        4  \n",
              "23323        6  \n",
              "\n",
              "[23324 rows x 5 columns]"
            ],
            "text/html": [
              "\n",
              "  <div id=\"df-2e586124-ef35-4a8b-a4df-c4822042fa15\">\n",
              "    <div class=\"colab-df-container\">\n",
              "      <div>\n",
              "<style scoped>\n",
              "    .dataframe tbody tr th:only-of-type {\n",
              "        vertical-align: middle;\n",
              "    }\n",
              "\n",
              "    .dataframe tbody tr th {\n",
              "        vertical-align: top;\n",
              "    }\n",
              "\n",
              "    .dataframe thead th {\n",
              "        text-align: right;\n",
              "    }\n",
              "</style>\n",
              "<table border=\"1\" class=\"dataframe\">\n",
              "  <thead>\n",
              "    <tr style=\"text-align: right;\">\n",
              "      <th></th>\n",
              "      <th>A_patent</th>\n",
              "      <th>B_patent</th>\n",
              "      <th>sam_label</th>\n",
              "      <th>A_label</th>\n",
              "      <th>B_label</th>\n",
              "    </tr>\n",
              "  </thead>\n",
              "  <tbody>\n",
              "    <tr>\n",
              "      <th>0</th>\n",
              "      <td>[0.36229375, -0.50979894, -0.071172826, 0.0716...</td>\n",
              "      <td>[0.59421617, -0.15761371, 0.07355781, -0.14865...</td>\n",
              "      <td>0</td>\n",
              "      <td>3</td>\n",
              "      <td>0</td>\n",
              "    </tr>\n",
              "    <tr>\n",
              "      <th>1</th>\n",
              "      <td>[0.4170102, -0.1611865, 0.016234059, -0.034006...</td>\n",
              "      <td>[0.5061552, 0.09089776, 0.2494746, 0.46706584,...</td>\n",
              "      <td>1</td>\n",
              "      <td>6</td>\n",
              "      <td>6</td>\n",
              "    </tr>\n",
              "    <tr>\n",
              "      <th>2</th>\n",
              "      <td>[0.21566992, 0.37108305, 0.581861, 0.4217709, ...</td>\n",
              "      <td>[-0.063228115, 0.20342293, -0.45882493, 0.0856...</td>\n",
              "      <td>0</td>\n",
              "      <td>3</td>\n",
              "      <td>4</td>\n",
              "    </tr>\n",
              "    <tr>\n",
              "      <th>3</th>\n",
              "      <td>[0.17490184, 0.057280716, 0.33718467, 0.162178...</td>\n",
              "      <td>[0.60902894, -0.15597533, -0.1680133, -0.13122...</td>\n",
              "      <td>0</td>\n",
              "      <td>0</td>\n",
              "      <td>1</td>\n",
              "    </tr>\n",
              "    <tr>\n",
              "      <th>4</th>\n",
              "      <td>[0.25884563, 0.13668944, -0.03792026, -0.06936...</td>\n",
              "      <td>[-0.076299764, -0.18286894, 0.44981137, -0.007...</td>\n",
              "      <td>0</td>\n",
              "      <td>5</td>\n",
              "      <td>0</td>\n",
              "    </tr>\n",
              "    <tr>\n",
              "      <th>...</th>\n",
              "      <td>...</td>\n",
              "      <td>...</td>\n",
              "      <td>...</td>\n",
              "      <td>...</td>\n",
              "      <td>...</td>\n",
              "    </tr>\n",
              "    <tr>\n",
              "      <th>23319</th>\n",
              "      <td>[-0.11465991, -0.0045952667, -0.4231456, 0.127...</td>\n",
              "      <td>[0.17921987, -0.05672539, 0.11646745, -0.05281...</td>\n",
              "      <td>0</td>\n",
              "      <td>1</td>\n",
              "      <td>6</td>\n",
              "    </tr>\n",
              "    <tr>\n",
              "      <th>23320</th>\n",
              "      <td>[0.3935649, -0.12443716, 0.05400295, 0.4531702...</td>\n",
              "      <td>[0.25731322, -0.21553199, 0.10416031, 0.032546...</td>\n",
              "      <td>0</td>\n",
              "      <td>0</td>\n",
              "      <td>1</td>\n",
              "    </tr>\n",
              "    <tr>\n",
              "      <th>23321</th>\n",
              "      <td>[0.07053192, -0.25414056, -0.093417294, -0.129...</td>\n",
              "      <td>[0.36229375, -0.50979894, -0.071172826, 0.0716...</td>\n",
              "      <td>0</td>\n",
              "      <td>4</td>\n",
              "      <td>3</td>\n",
              "    </tr>\n",
              "    <tr>\n",
              "      <th>23322</th>\n",
              "      <td>[0.25910273, -0.28315908, 0.12044519, 0.123281...</td>\n",
              "      <td>[0.30005488, -0.21446921, -0.67292786, 0.23480...</td>\n",
              "      <td>0</td>\n",
              "      <td>5</td>\n",
              "      <td>4</td>\n",
              "    </tr>\n",
              "    <tr>\n",
              "      <th>23323</th>\n",
              "      <td>[0.29319736, -0.10233939, 0.039186634, 0.20327...</td>\n",
              "      <td>[-0.1153905, 0.33363542, 0.10972641, 0.0500966...</td>\n",
              "      <td>0</td>\n",
              "      <td>2</td>\n",
              "      <td>6</td>\n",
              "    </tr>\n",
              "  </tbody>\n",
              "</table>\n",
              "<p>23324 rows × 5 columns</p>\n",
              "</div>\n",
              "      <button class=\"colab-df-convert\" onclick=\"convertToInteractive('df-2e586124-ef35-4a8b-a4df-c4822042fa15')\"\n",
              "              title=\"Convert this dataframe to an interactive table.\"\n",
              "              style=\"display:none;\">\n",
              "        \n",
              "  <svg xmlns=\"http://www.w3.org/2000/svg\" height=\"24px\"viewBox=\"0 0 24 24\"\n",
              "       width=\"24px\">\n",
              "    <path d=\"M0 0h24v24H0V0z\" fill=\"none\"/>\n",
              "    <path d=\"M18.56 5.44l.94 2.06.94-2.06 2.06-.94-2.06-.94-.94-2.06-.94 2.06-2.06.94zm-11 1L8.5 8.5l.94-2.06 2.06-.94-2.06-.94L8.5 2.5l-.94 2.06-2.06.94zm10 10l.94 2.06.94-2.06 2.06-.94-2.06-.94-.94-2.06-.94 2.06-2.06.94z\"/><path d=\"M17.41 7.96l-1.37-1.37c-.4-.4-.92-.59-1.43-.59-.52 0-1.04.2-1.43.59L10.3 9.45l-7.72 7.72c-.78.78-.78 2.05 0 2.83L4 21.41c.39.39.9.59 1.41.59.51 0 1.02-.2 1.41-.59l7.78-7.78 2.81-2.81c.8-.78.8-2.07 0-2.86zM5.41 20L4 18.59l7.72-7.72 1.47 1.35L5.41 20z\"/>\n",
              "  </svg>\n",
              "      </button>\n",
              "      \n",
              "  <style>\n",
              "    .colab-df-container {\n",
              "      display:flex;\n",
              "      flex-wrap:wrap;\n",
              "      gap: 12px;\n",
              "    }\n",
              "\n",
              "    .colab-df-convert {\n",
              "      background-color: #E8F0FE;\n",
              "      border: none;\n",
              "      border-radius: 50%;\n",
              "      cursor: pointer;\n",
              "      display: none;\n",
              "      fill: #1967D2;\n",
              "      height: 32px;\n",
              "      padding: 0 0 0 0;\n",
              "      width: 32px;\n",
              "    }\n",
              "\n",
              "    .colab-df-convert:hover {\n",
              "      background-color: #E2EBFA;\n",
              "      box-shadow: 0px 1px 2px rgba(60, 64, 67, 0.3), 0px 1px 3px 1px rgba(60, 64, 67, 0.15);\n",
              "      fill: #174EA6;\n",
              "    }\n",
              "\n",
              "    [theme=dark] .colab-df-convert {\n",
              "      background-color: #3B4455;\n",
              "      fill: #D2E3FC;\n",
              "    }\n",
              "\n",
              "    [theme=dark] .colab-df-convert:hover {\n",
              "      background-color: #434B5C;\n",
              "      box-shadow: 0px 1px 3px 1px rgba(0, 0, 0, 0.15);\n",
              "      filter: drop-shadow(0px 1px 2px rgba(0, 0, 0, 0.3));\n",
              "      fill: #FFFFFF;\n",
              "    }\n",
              "  </style>\n",
              "\n",
              "      <script>\n",
              "        const buttonEl =\n",
              "          document.querySelector('#df-2e586124-ef35-4a8b-a4df-c4822042fa15 button.colab-df-convert');\n",
              "        buttonEl.style.display =\n",
              "          google.colab.kernel.accessAllowed ? 'block' : 'none';\n",
              "\n",
              "        async function convertToInteractive(key) {\n",
              "          const element = document.querySelector('#df-2e586124-ef35-4a8b-a4df-c4822042fa15');\n",
              "          const dataTable =\n",
              "            await google.colab.kernel.invokeFunction('convertToInteractive',\n",
              "                                                     [key], {});\n",
              "          if (!dataTable) return;\n",
              "\n",
              "          const docLinkHtml = 'Like what you see? Visit the ' +\n",
              "            '<a target=\"_blank\" href=https://colab.research.google.com/notebooks/data_table.ipynb>data table notebook</a>'\n",
              "            + ' to learn more about interactive tables.';\n",
              "          element.innerHTML = '';\n",
              "          dataTable['output_type'] = 'display_data';\n",
              "          await google.colab.output.renderOutput(dataTable, element);\n",
              "          const docLink = document.createElement('div');\n",
              "          docLink.innerHTML = docLinkHtml;\n",
              "          element.appendChild(docLink);\n",
              "        }\n",
              "      </script>\n",
              "    </div>\n",
              "  </div>\n",
              "  "
            ]
          },
          "metadata": {},
          "execution_count": 3
        }
      ]
    },
    {
      "cell_type": "code",
      "source": [
        "A_patent = data[['A_patent', 'A_label']]\n",
        "A_patent = pd.DataFrame(A_patent.values, columns = ['patent', 'label'])\n",
        "B_patent = data[['B_patent', 'B_label']]\n",
        "B_patent = pd.DataFrame(B_patent.values, columns = ['patent', 'label'])\n",
        "total_data = pd.concat([A_patent, B_patent])\n",
        "total_data.index = range(len(total_data))\n",
        "total_data"
      ],
      "metadata": {
        "colab": {
          "base_uri": "https://localhost:8080/",
          "height": 424
        },
        "id": "AQnP20_8KHRw",
        "outputId": "71e25876-a39b-4729-cdd7-b57054e24c4e"
      },
      "execution_count": 11,
      "outputs": [
        {
          "output_type": "execute_result",
          "data": {
            "text/plain": [
              "                                                  patent label\n",
              "0      [0.36229375, -0.50979894, -0.071172826, 0.0716...     3\n",
              "1      [0.4170102, -0.1611865, 0.016234059, -0.034006...     6\n",
              "2      [0.21566992, 0.37108305, 0.581861, 0.4217709, ...     3\n",
              "3      [0.17490184, 0.057280716, 0.33718467, 0.162178...     0\n",
              "4      [0.25884563, 0.13668944, -0.03792026, -0.06936...     5\n",
              "...                                                  ...   ...\n",
              "46643  [0.17921987, -0.05672539, 0.11646745, -0.05281...     6\n",
              "46644  [0.25731322, -0.21553199, 0.10416031, 0.032546...     1\n",
              "46645  [0.36229375, -0.50979894, -0.071172826, 0.0716...     3\n",
              "46646  [0.30005488, -0.21446921, -0.67292786, 0.23480...     4\n",
              "46647  [-0.1153905, 0.33363542, 0.10972641, 0.0500966...     6\n",
              "\n",
              "[46648 rows x 2 columns]"
            ],
            "text/html": [
              "\n",
              "  <div id=\"df-a1f8f75a-1109-4724-9919-f63b1d01e39a\">\n",
              "    <div class=\"colab-df-container\">\n",
              "      <div>\n",
              "<style scoped>\n",
              "    .dataframe tbody tr th:only-of-type {\n",
              "        vertical-align: middle;\n",
              "    }\n",
              "\n",
              "    .dataframe tbody tr th {\n",
              "        vertical-align: top;\n",
              "    }\n",
              "\n",
              "    .dataframe thead th {\n",
              "        text-align: right;\n",
              "    }\n",
              "</style>\n",
              "<table border=\"1\" class=\"dataframe\">\n",
              "  <thead>\n",
              "    <tr style=\"text-align: right;\">\n",
              "      <th></th>\n",
              "      <th>patent</th>\n",
              "      <th>label</th>\n",
              "    </tr>\n",
              "  </thead>\n",
              "  <tbody>\n",
              "    <tr>\n",
              "      <th>0</th>\n",
              "      <td>[0.36229375, -0.50979894, -0.071172826, 0.0716...</td>\n",
              "      <td>3</td>\n",
              "    </tr>\n",
              "    <tr>\n",
              "      <th>1</th>\n",
              "      <td>[0.4170102, -0.1611865, 0.016234059, -0.034006...</td>\n",
              "      <td>6</td>\n",
              "    </tr>\n",
              "    <tr>\n",
              "      <th>2</th>\n",
              "      <td>[0.21566992, 0.37108305, 0.581861, 0.4217709, ...</td>\n",
              "      <td>3</td>\n",
              "    </tr>\n",
              "    <tr>\n",
              "      <th>3</th>\n",
              "      <td>[0.17490184, 0.057280716, 0.33718467, 0.162178...</td>\n",
              "      <td>0</td>\n",
              "    </tr>\n",
              "    <tr>\n",
              "      <th>4</th>\n",
              "      <td>[0.25884563, 0.13668944, -0.03792026, -0.06936...</td>\n",
              "      <td>5</td>\n",
              "    </tr>\n",
              "    <tr>\n",
              "      <th>...</th>\n",
              "      <td>...</td>\n",
              "      <td>...</td>\n",
              "    </tr>\n",
              "    <tr>\n",
              "      <th>46643</th>\n",
              "      <td>[0.17921987, -0.05672539, 0.11646745, -0.05281...</td>\n",
              "      <td>6</td>\n",
              "    </tr>\n",
              "    <tr>\n",
              "      <th>46644</th>\n",
              "      <td>[0.25731322, -0.21553199, 0.10416031, 0.032546...</td>\n",
              "      <td>1</td>\n",
              "    </tr>\n",
              "    <tr>\n",
              "      <th>46645</th>\n",
              "      <td>[0.36229375, -0.50979894, -0.071172826, 0.0716...</td>\n",
              "      <td>3</td>\n",
              "    </tr>\n",
              "    <tr>\n",
              "      <th>46646</th>\n",
              "      <td>[0.30005488, -0.21446921, -0.67292786, 0.23480...</td>\n",
              "      <td>4</td>\n",
              "    </tr>\n",
              "    <tr>\n",
              "      <th>46647</th>\n",
              "      <td>[-0.1153905, 0.33363542, 0.10972641, 0.0500966...</td>\n",
              "      <td>6</td>\n",
              "    </tr>\n",
              "  </tbody>\n",
              "</table>\n",
              "<p>46648 rows × 2 columns</p>\n",
              "</div>\n",
              "      <button class=\"colab-df-convert\" onclick=\"convertToInteractive('df-a1f8f75a-1109-4724-9919-f63b1d01e39a')\"\n",
              "              title=\"Convert this dataframe to an interactive table.\"\n",
              "              style=\"display:none;\">\n",
              "        \n",
              "  <svg xmlns=\"http://www.w3.org/2000/svg\" height=\"24px\"viewBox=\"0 0 24 24\"\n",
              "       width=\"24px\">\n",
              "    <path d=\"M0 0h24v24H0V0z\" fill=\"none\"/>\n",
              "    <path d=\"M18.56 5.44l.94 2.06.94-2.06 2.06-.94-2.06-.94-.94-2.06-.94 2.06-2.06.94zm-11 1L8.5 8.5l.94-2.06 2.06-.94-2.06-.94L8.5 2.5l-.94 2.06-2.06.94zm10 10l.94 2.06.94-2.06 2.06-.94-2.06-.94-.94-2.06-.94 2.06-2.06.94z\"/><path d=\"M17.41 7.96l-1.37-1.37c-.4-.4-.92-.59-1.43-.59-.52 0-1.04.2-1.43.59L10.3 9.45l-7.72 7.72c-.78.78-.78 2.05 0 2.83L4 21.41c.39.39.9.59 1.41.59.51 0 1.02-.2 1.41-.59l7.78-7.78 2.81-2.81c.8-.78.8-2.07 0-2.86zM5.41 20L4 18.59l7.72-7.72 1.47 1.35L5.41 20z\"/>\n",
              "  </svg>\n",
              "      </button>\n",
              "      \n",
              "  <style>\n",
              "    .colab-df-container {\n",
              "      display:flex;\n",
              "      flex-wrap:wrap;\n",
              "      gap: 12px;\n",
              "    }\n",
              "\n",
              "    .colab-df-convert {\n",
              "      background-color: #E8F0FE;\n",
              "      border: none;\n",
              "      border-radius: 50%;\n",
              "      cursor: pointer;\n",
              "      display: none;\n",
              "      fill: #1967D2;\n",
              "      height: 32px;\n",
              "      padding: 0 0 0 0;\n",
              "      width: 32px;\n",
              "    }\n",
              "\n",
              "    .colab-df-convert:hover {\n",
              "      background-color: #E2EBFA;\n",
              "      box-shadow: 0px 1px 2px rgba(60, 64, 67, 0.3), 0px 1px 3px 1px rgba(60, 64, 67, 0.15);\n",
              "      fill: #174EA6;\n",
              "    }\n",
              "\n",
              "    [theme=dark] .colab-df-convert {\n",
              "      background-color: #3B4455;\n",
              "      fill: #D2E3FC;\n",
              "    }\n",
              "\n",
              "    [theme=dark] .colab-df-convert:hover {\n",
              "      background-color: #434B5C;\n",
              "      box-shadow: 0px 1px 3px 1px rgba(0, 0, 0, 0.15);\n",
              "      filter: drop-shadow(0px 1px 2px rgba(0, 0, 0, 0.3));\n",
              "      fill: #FFFFFF;\n",
              "    }\n",
              "  </style>\n",
              "\n",
              "      <script>\n",
              "        const buttonEl =\n",
              "          document.querySelector('#df-a1f8f75a-1109-4724-9919-f63b1d01e39a button.colab-df-convert');\n",
              "        buttonEl.style.display =\n",
              "          google.colab.kernel.accessAllowed ? 'block' : 'none';\n",
              "\n",
              "        async function convertToInteractive(key) {\n",
              "          const element = document.querySelector('#df-a1f8f75a-1109-4724-9919-f63b1d01e39a');\n",
              "          const dataTable =\n",
              "            await google.colab.kernel.invokeFunction('convertToInteractive',\n",
              "                                                     [key], {});\n",
              "          if (!dataTable) return;\n",
              "\n",
              "          const docLinkHtml = 'Like what you see? Visit the ' +\n",
              "            '<a target=\"_blank\" href=https://colab.research.google.com/notebooks/data_table.ipynb>data table notebook</a>'\n",
              "            + ' to learn more about interactive tables.';\n",
              "          element.innerHTML = '';\n",
              "          dataTable['output_type'] = 'display_data';\n",
              "          await google.colab.output.renderOutput(dataTable, element);\n",
              "          const docLink = document.createElement('div');\n",
              "          docLink.innerHTML = docLinkHtml;\n",
              "          element.appendChild(docLink);\n",
              "        }\n",
              "      </script>\n",
              "    </div>\n",
              "  </div>\n",
              "  "
            ]
          },
          "metadata": {},
          "execution_count": 11
        }
      ]
    },
    {
      "cell_type": "code",
      "source": [
        "# train_data = total_data[total_data['label'] < 4]\n",
        "# test_data = total_data[total_data['label'] > 3]\n",
        "# x_train = train_data['patent'].values\n",
        "# y_train = train_data['label'].values.astype(np.int)\n",
        "# x_test = test_data['patent'].values\n",
        "# y_test = test_data['label'].values.astype(np.int)\n",
        "from sklearn.model_selection import train_test_split\n",
        "\n",
        "x_train, x_test, y_train, y_test = train_test_split(total_data['patent'].values, total_data['label'].values.astype(np.int), test_size=0.2, random_state=42)\n",
        "\n",
        "x_train = np.vstack(x_train)\n",
        "x_test = np.vstack(x_test)"
      ],
      "metadata": {
        "id": "XsVQy4rhMvaY",
        "colab": {
          "base_uri": "https://localhost:8080/"
        },
        "outputId": "b43ba2ad-ce5f-496a-ad5c-ba720b2eab41"
      },
      "execution_count": 15,
      "outputs": [
        {
          "output_type": "stream",
          "name": "stderr",
          "text": [
            "/usr/local/lib/python3.7/dist-packages/ipykernel_launcher.py:9: DeprecationWarning: `np.int` is a deprecated alias for the builtin `int`. To silence this warning, use `int` by itself. Doing this will not modify any behavior and is safe. When replacing `np.int`, you may wish to use e.g. `np.int64` or `np.int32` to specify the precision. If you wish to review your current use, check the release note link for additional information.\n",
            "Deprecated in NumPy 1.20; for more details and guidance: https://numpy.org/devdocs/release/1.20.0-notes.html#deprecations\n",
            "  if __name__ == '__main__':\n"
          ]
        }
      ]
    },
    {
      "cell_type": "code",
      "source": [
        "class patent_dataset(torch.utils.data.Dataset):\n",
        "    def __init__(self, x_data, y_data):\n",
        "        self.x = torch.FloatTensor(x_data)\n",
        "        self.y = torch.tensor(y_data)\n",
        "\n",
        "    def __len__(self):\n",
        "        return len(self.x)\n",
        "\n",
        "    def __getitem__(self, idx):\n",
        "        return self.x[idx], self.y[idx]\n",
        "\n",
        "\n",
        "\n",
        "def generate_pair(data, label):\n",
        "    batch_num = len(data)\n",
        "    idx = torch.tensor(list(combinations(range(batch_num), 2)))\n",
        "    input1 = data[idx[:,0]]\n",
        "    input2 = data[idx[:,1]]\n",
        "    label = (label[idx[:,0]] == label[idx[:,1]]).type(torch.int)\n",
        "    return input1, input2, label"
      ],
      "metadata": {
        "id": "uM3l1iVGKcZy"
      },
      "execution_count": 77,
      "outputs": []
    },
    {
      "cell_type": "code",
      "source": [
        "batch_num = 512\n",
        "train_dataset = patent_dataset(x_train, y_train)\n",
        "test_dataset = patent_dataset(x_test, y_test)"
      ],
      "metadata": {
        "id": "dBX1gDz0KdRK"
      },
      "execution_count": 78,
      "outputs": []
    },
    {
      "cell_type": "code",
      "source": [
        "train_dataloader = torch.utils.data.DataLoader(train_dataset, shuffle = True, batch_size = batch_num)\n",
        "test_dataloader = torch.utils.data.DataLoader(test_dataset, shuffle = True, batch_size = batch_num)"
      ],
      "metadata": {
        "id": "IyxHheQzOqWe"
      },
      "execution_count": 79,
      "outputs": []
    },
    {
      "cell_type": "code",
      "source": [
        "class fnn(nn.Module):\n",
        "    def __init__(self):\n",
        "        super(fnn, self).__init__()\n",
        "        self.fc = nn.Sequential(\n",
        "            nn.Linear(1024, 512),\n",
        "            nn.LeakyReLU(),\n",
        "            nn.Linear(512, 256),\n",
        "            nn.LeakyReLU(),\n",
        "            nn.Linear(256, 64)\n",
        "        )\n",
        "\n",
        "    def forward(self, x1, x2):\n",
        "        out1 = self.fc(x1)\n",
        "        out2 = self.fc(x2)\n",
        "        return out1, out2"
      ],
      "metadata": {
        "id": "wDBmH3tpWsrR"
      },
      "execution_count": 80,
      "outputs": []
    },
    {
      "cell_type": "code",
      "source": [
        "def loss_fn(out1, out2, label, margin = 1):\n",
        "    distance = torch.sum((out1 - out2)**2, 1)\n",
        "    positive_loss = label*distance\n",
        "    negative_loss = (1-label)*torch.clamp(margin - distance, min = 0)\n",
        "    return torch.mean(positive_loss + negative_loss)"
      ],
      "metadata": {
        "id": "vsudDpn6Ykuq"
      },
      "execution_count": 81,
      "outputs": []
    },
    {
      "cell_type": "code",
      "source": [
        "model = fnn().cuda()\n",
        "optimizer = torch.optim.Adam(model.parameters(), lr = 5*1e-4)"
      ],
      "metadata": {
        "id": "G7I0nI19YI-E"
      },
      "execution_count": 82,
      "outputs": []
    },
    {
      "cell_type": "code",
      "source": [
        "epochs = 50\n",
        "train_loss_list = []\n",
        "test_loss_list = []\n",
        "for epoch in tqdm_notebook(range(1, epochs)):\n",
        "    train_loss = 0\n",
        "    model.train()\n",
        "    for idx, (data, labels) in enumerate(train_dataloader):\n",
        "        optimizer.zero_grad()\n",
        "        emb1, emb2, label = generate_pair(data, labels)\n",
        "        out1, out2 = model(emb1.cuda(), emb2.cuda())\n",
        "        loss = loss_fn(out1, out2, label.cuda())\n",
        "        loss.backward()\n",
        "        optimizer.step()\n",
        "        train_loss += loss.item()\n",
        "\n",
        "    train_loss /= len(train_dataloader)\n",
        "    train_loss_list.append(train_loss)\n",
        "\n",
        "    model.eval()\n",
        "    test_loss = 0\n",
        "    for idx, (data, labels) in enumerate(test_dataloader):\n",
        "        emb1, emb2, label = generate_pair(data, labels)\n",
        "        out1, out2 = model(emb1.cuda(), emb2.cuda())\n",
        "        loss = loss_fn(out1, out2, label.cuda())\n",
        "        test_loss += loss.item()\n",
        "\n",
        "    test_loss /= len(test_dataloader)\n",
        "    test_loss_list.append(test_loss)\n",
        "\n",
        "    print(\"Epoch : \", epoch, \"Train loss : \", train_loss, \"Test loss : \", test_loss)"
      ],
      "metadata": {
        "colab": {
          "base_uri": "https://localhost:8080/",
          "height": 900,
          "referenced_widgets": [
            "d49052c836ca4015bdf337bf3cffad0c",
            "12700f9c1bfe45129dbb21af21a40d3d",
            "dcb8b0f802df40218d5997d71e041c91",
            "c1572750f2884fce89fa9dfa84616091",
            "1bba5adc55a84030871f38cd683dfe30",
            "9e234aec40fe499984afa942836ea7b0",
            "7a11c6456b4545b2a76aca4d49b984c7",
            "72c8989a80174cd5b83c820ca67084df",
            "39ade89f545046729cdbafd3b9c8872b",
            "1d3b75f1b50445ea80556d0ad8e1e1b3",
            "0872e03ed5bb4490b3c88da584c8cacf"
          ]
        },
        "id": "R7NXkZAqRxAo",
        "outputId": "1745ef79-19bd-4353-cce3-2e8aa095bb54"
      },
      "execution_count": null,
      "outputs": [
        {
          "output_type": "stream",
          "name": "stderr",
          "text": [
            "/usr/local/lib/python3.7/dist-packages/ipykernel_launcher.py:4: TqdmDeprecationWarning: This function will be removed in tqdm==5.0.0\n",
            "Please use `tqdm.notebook.tqdm` instead of `tqdm.tqdm_notebook`\n",
            "  after removing the cwd from sys.path.\n"
          ]
        },
        {
          "output_type": "display_data",
          "data": {
            "text/plain": [
              "  0%|          | 0/49 [00:00<?, ?it/s]"
            ],
            "application/vnd.jupyter.widget-view+json": {
              "version_major": 2,
              "version_minor": 0,
              "model_id": "d49052c836ca4015bdf337bf3cffad0c"
            }
          },
          "metadata": {}
        },
        {
          "output_type": "stream",
          "name": "stdout",
          "text": [
            "Epoch :  1 Train loss :  0.14425031833146532 Test loss :  0.01895034852388658\n",
            "Epoch :  2 Train loss :  0.005703370214427171 Test loss :  0.0014352426116697882\n",
            "Epoch :  3 Train loss :  0.0008664039523366277 Test loss :  0.000555332964531293\n",
            "Epoch :  4 Train loss :  0.0004098944259131302 Test loss :  0.00030123594670409436\n",
            "Epoch :  5 Train loss :  0.00023572754026358718 Test loss :  0.00018530395601900587\n",
            "Epoch :  6 Train loss :  0.00015669804459520655 Test loss :  0.00012579725750440143\n",
            "Epoch :  7 Train loss :  0.00010543221387332816 Test loss :  8.951236630213986e-05\n",
            "Epoch :  8 Train loss :  8.069974456416214e-05 Test loss :  6.52201515070996e-05\n",
            "Epoch :  9 Train loss :  5.4068900070676246e-05 Test loss :  4.787814357673357e-05\n",
            "Epoch :  10 Train loss :  6.964597634752663e-05 Test loss :  3.822004375826126e-05\n",
            "Epoch :  11 Train loss :  3.14511517114612e-05 Test loss :  2.7768863028062408e-05\n",
            "Epoch :  12 Train loss :  2.4210184027938403e-05 Test loss :  2.1930477822407785e-05\n",
            "Epoch :  13 Train loss :  1.9820924971511026e-05 Test loss :  2.657817104160418e-05\n",
            "Epoch :  14 Train loss :  1.7696247633553767e-05 Test loss :  1.4158892171460474e-05\n",
            "Epoch :  15 Train loss :  1.2629115401866068e-05 Test loss :  1.1802427683218603e-05\n",
            "Epoch :  16 Train loss :  1.0371889302778945e-05 Test loss :  9.644861500802157e-06\n",
            "Epoch :  17 Train loss :  8.590706154990746e-06 Test loss :  8.089851211192772e-06\n",
            "Epoch :  18 Train loss :  7.264083438239552e-06 Test loss :  6.814512696444963e-06\n",
            "Epoch :  19 Train loss :  6.107793381002697e-06 Test loss :  5.667093175457251e-06\n",
            "Epoch :  20 Train loss :  5.129236853139296e-06 Test loss :  4.820196887809097e-06\n",
            "Epoch :  21 Train loss :  0.004014581733403471 Test loss :  0.0008610995382217592\n",
            "Epoch :  22 Train loss :  0.00023765306094938838 Test loss :  7.78559306605817e-05\n",
            "Epoch :  23 Train loss :  5.5124885265074336e-05 Test loss :  4.087484653849204e-05\n",
            "Epoch :  24 Train loss :  3.235360998911496e-05 Test loss :  2.630844018743741e-05\n",
            "Epoch :  25 Train loss :  2.192502708492437e-05 Test loss :  1.8539405381919717e-05\n",
            "Epoch :  26 Train loss :  1.5950213571769595e-05 Test loss :  1.3971809398514635e-05\n",
            "Epoch :  27 Train loss :  1.2552252621688938e-05 Test loss :  1.1003327017533593e-05\n",
            "Epoch :  28 Train loss :  9.658075326376702e-06 Test loss :  8.73376963059663e-06\n",
            "Epoch :  29 Train loss :  1.3693884595764532e-05 Test loss :  1.625412350174309e-05\n",
            "Epoch :  30 Train loss :  8.163609417762977e-06 Test loss :  5.996337030841173e-06\n",
            "Epoch :  31 Train loss :  5.3894043285503334e-06 Test loss :  4.983931782925011e-06\n",
            "Epoch :  32 Train loss :  4.5458992545182774e-06 Test loss :  4.2442373485659784e-06\n",
            "Epoch :  33 Train loss :  3.87075365386857e-06 Test loss :  3.6246506768197593e-06\n",
            "Epoch :  34 Train loss :  3.3539246680746845e-06 Test loss :  3.19333211289057e-06\n",
            "Epoch :  35 Train loss :  2.8978769359912815e-06 Test loss :  2.774928421594699e-06\n",
            "Epoch :  36 Train loss :  2.5347619082647924e-06 Test loss :  2.406051240349801e-06\n",
            "Epoch :  37 Train loss :  2.222301437130177e-06 Test loss :  2.128148348913926e-06\n",
            "Epoch :  38 Train loss :  1.9596943511964104e-06 Test loss :  1.8695509006168944e-06\n",
            "Epoch :  39 Train loss :  1.727450658669512e-06 Test loss :  1.6471197365095385e-06\n",
            "Epoch :  40 Train loss :  1.543918690988168e-06 Test loss :  1.4880195964762702e-06\n",
            "Epoch :  41 Train loss :  1.371181649854606e-06 Test loss :  1.3205965627237578e-06\n",
            "Epoch :  42 Train loss :  1.227847320316794e-06 Test loss :  1.1870781870464653e-06\n",
            "Epoch :  43 Train loss :  1.1025517397210436e-06 Test loss :  1.05528626866209e-06\n",
            "Epoch :  44 Train loss :  5.071672857511284e-06 Test loss :  2.6306880906639365e-06\n",
            "Epoch :  45 Train loss :  1.2791393151143882e-06 Test loss :  9.409859019701559e-07\n",
            "Epoch :  46 Train loss :  8.369347472593016e-07 Test loss :  8.34690303307932e-07\n"
          ]
        }
      ]
    },
    {
      "cell_type": "code",
      "source": [
        "import matplotlib.pyplot as plt\n",
        "\n",
        "plt.plot(train_loss_list, label = \"train\")\n",
        "plt.plot(test_loss_list, label = \"test\")\n",
        "plt.legend(loc = \"best\")\n",
        "plt.tight_layout()\n",
        "plt.show()"
      ],
      "metadata": {
        "id": "rzUyUNeiaBRH"
      },
      "execution_count": null,
      "outputs": []
    },
    {
      "cell_type": "code",
      "source": [
        "torch.save(model, \"/content/drive/MyDrive/patent_mode.pt\")"
      ],
      "metadata": {
        "id": "ArqAbYszcQAH"
      },
      "execution_count": null,
      "outputs": []
    },
    {
      "cell_type": "code",
      "source": [
        "total_out = []\n",
        "total_labels = []\n",
        "model.eval()\n",
        "for idx, (data, labels) in enumerate(test_dataloader):\n",
        "    out1, out2 = model(data.cuda(), torch.ones(1024).cuda())\n",
        "    total_out.append(out1.cpu().detach())\n",
        "    total_labels.append(labels)\n",
        "total_out = torch.cat(total_out)\n",
        "total_labels = torch.cat(total_labels)"
      ],
      "metadata": {
        "id": "guSkS-DJjCrC"
      },
      "execution_count": null,
      "outputs": []
    },
    {
      "cell_type": "code",
      "source": [
        "labels.shape"
      ],
      "metadata": {
        "id": "qZWhIOWnjcEh"
      },
      "execution_count": null,
      "outputs": []
    },
    {
      "cell_type": "code",
      "source": [
        "from sklearn.manifold import TSNE\n",
        "from sklearn.datasets import load_digits\n",
        "\n",
        "# 2차원으로 차원 축소\n",
        "n_components = 2\n",
        "\n",
        "# t-sne 모델 생성\n",
        "tsne = TSNE(n_components=n_components)\n",
        "\n",
        "# 학습한 결과 2차원 공간 값 출력\n",
        "result = tsne.fit_transform(total_out.numpy())"
      ],
      "metadata": {
        "id": "L9ds2hoLcVqm"
      },
      "execution_count": null,
      "outputs": []
    },
    {
      "cell_type": "code",
      "source": [
        "total_labels"
      ],
      "metadata": {
        "id": "-bb7ml2kmcI0"
      },
      "execution_count": null,
      "outputs": []
    },
    {
      "cell_type": "code",
      "source": [
        "plt.figure(figsize = [10,10])\n",
        "point_labels = ['A', 'B','C', 'D', 'E', 'F']\n",
        "for i in range(6):\n",
        "    idx = torch.where(total_labels == i)[0]\n",
        "    plt.scatter(result[idx,0], result[idx,1], label = point_labels[i])\n",
        "\n",
        "plt.legend(loc = \"best\", fontsize = 15)\n",
        "plt.show()"
      ],
      "metadata": {
        "id": "W6OKg9yJmKif"
      },
      "execution_count": null,
      "outputs": []
    },
    {
      "cell_type": "code",
      "source": [
        "!nvidia-smi"
      ],
      "metadata": {
        "colab": {
          "base_uri": "https://localhost:8080/"
        },
        "id": "YxinLJwQm3H6",
        "outputId": "f92a4f20-973c-4692-b2f6-4ea46f0f779f"
      },
      "execution_count": 40,
      "outputs": [
        {
          "output_type": "stream",
          "name": "stdout",
          "text": [
            "Mon Oct 17 11:09:18 2022       \n",
            "+-----------------------------------------------------------------------------+\n",
            "| NVIDIA-SMI 460.32.03    Driver Version: 460.32.03    CUDA Version: 11.2     |\n",
            "|-------------------------------+----------------------+----------------------+\n",
            "| GPU  Name        Persistence-M| Bus-Id        Disp.A | Volatile Uncorr. ECC |\n",
            "| Fan  Temp  Perf  Pwr:Usage/Cap|         Memory-Usage | GPU-Util  Compute M. |\n",
            "|                               |                      |               MIG M. |\n",
            "|===============================+======================+======================|\n",
            "|   0  Tesla T4            Off  | 00000000:00:04.0 Off |                    0 |\n",
            "| N/A   69C    P0    30W /  70W |   1172MiB / 15109MiB |      0%      Default |\n",
            "|                               |                      |                  N/A |\n",
            "+-------------------------------+----------------------+----------------------+\n",
            "                                                                               \n",
            "+-----------------------------------------------------------------------------+\n",
            "| Processes:                                                                  |\n",
            "|  GPU   GI   CI        PID   Type   Process name                  GPU Memory |\n",
            "|        ID   ID                                                   Usage      |\n",
            "|=============================================================================|\n",
            "+-----------------------------------------------------------------------------+\n"
          ]
        }
      ]
    },
    {
      "cell_type": "code",
      "source": [
        "plt.figure(figsize = [10,10])\n",
        "point_labels = ['A', 'B','C', 'D', 'E', 'F']\n",
        "for i in range(6):\n",
        "    idx = torch.where(total_labels == i)[0]\n",
        "    plt.scatter(result[idx,0], result[idx,1], label = point_labels[i])\n",
        "\n",
        "plt.legend(loc = \"best\", fontsize = 15)\n",
        "plt.show()"
      ],
      "metadata": {
        "colab": {
          "base_uri": "https://localhost:8080/",
          "height": 592
        },
        "id": "LjJ0ZgCDjyoa",
        "outputId": "4cac99ef-e060-4325-8ed3-250a8e554b90"
      },
      "execution_count": 52,
      "outputs": [
        {
          "output_type": "display_data",
          "data": {
            "text/plain": [
              "<Figure size 720x720 with 1 Axes>"
            ],
            "image/png": "[encoded data removed]"
          },
          "metadata": {
            "needs_background": "light"
          }
        }
      ]
    },
    {
      "cell_type": "code",
      "source": [
        "result.shape"
      ],
      "metadata": {
        "colab": {
          "base_uri": "https://localhost:8080/"
        },
        "id": "nNYaT3ReknTi",
        "outputId": "bb6c1c6d-6b44-475f-c127-cdecc724b366"
      },
      "execution_count": null,
      "outputs": [
        {
          "output_type": "execute_result",
          "data": {
            "text/plain": [
              "(19992, 2)"
            ]
          },
          "metadata": {},
          "execution_count": 57
        }
      ]
    },
    {
      "cell_type": "code",
      "source": [
        "while True:\n",
        "    pass"
      ],
      "metadata": {
        "id": "w5SeJWYenJGk"
      },
      "execution_count": null,
      "outputs": []
    },
    {
      "cell_type": "code",
      "source": [],
      "metadata": {
        "id": "XJzmrMeZnoVJ"
      },
      "execution_count": null,
      "outputs": []
    }
  ]
}